# Display the output
print('Data Science Tools and Ecosystem')
